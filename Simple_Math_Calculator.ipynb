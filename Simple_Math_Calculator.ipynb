{
  "nbformat": 4,
  "nbformat_minor": 0,
  "metadata": {
    "colab": {
      "provenance": []
    },
    "kernelspec": {
      "name": "python3",
      "display_name": "Python 3"
    },
    "language_info": {
      "name": "python"
    }
  },
  "cells": [
    {
      "cell_type": "code",
      "execution_count": 17,
      "metadata": {
        "id": "Lx1qC9giJWpn"
      },
      "outputs": [],
      "source": [
        "def calculator(num1, operator, num2):\n",
        "    if operator == '+':\n",
        "      result = num1 + num2\n",
        "    elif operator == '-':\n",
        "      result = num1 - num2\n",
        "    elif operator == '*':\n",
        "      result = num1 * num2\n",
        "    elif operator == '/':\n",
        "      if num2 != 0:\n",
        "        result = num1 / num2\n",
        "      else:\n",
        "        print(\"ERROR: Bilangan tidak bisa dibagi 0!\")\n",
        "        return\n",
        "\n",
        "    print(f\"Hasil Kalkulasi: {result}\")"
      ]
    },
    {
      "cell_type": "code",
      "source": [
        "# ADDITION\n",
        "calculator(100, '+', 100)"
      ],
      "metadata": {
        "colab": {
          "base_uri": "https://localhost:8080/"
        },
        "id": "iFMN_qe0QeNG",
        "outputId": "9ba1016a-d221-43f1-f4fa-cc1c93c33466"
      },
      "execution_count": 9,
      "outputs": [
        {
          "output_type": "stream",
          "name": "stdout",
          "text": [
            "Hasil Kalkulasi: 200\n"
          ]
        }
      ]
    },
    {
      "cell_type": "code",
      "source": [
        "# SUBSTRACTION\n",
        "calculator(500, '-', 300)"
      ],
      "metadata": {
        "colab": {
          "base_uri": "https://localhost:8080/"
        },
        "id": "99EXJBiIQiIA",
        "outputId": "1ddeb813-25a5-40e5-ace3-b38574eadbd8"
      },
      "execution_count": 10,
      "outputs": [
        {
          "output_type": "stream",
          "name": "stdout",
          "text": [
            "Hasil Kalkulasi: 200\n"
          ]
        }
      ]
    },
    {
      "cell_type": "code",
      "source": [
        "# MULTIPLICATION\n",
        "calculator(20, '*', 50)"
      ],
      "metadata": {
        "colab": {
          "base_uri": "https://localhost:8080/"
        },
        "id": "rzxXzyEsQ764",
        "outputId": "bca6faa1-44d5-4a81-c709-b3605e604535"
      },
      "execution_count": 12,
      "outputs": [
        {
          "output_type": "stream",
          "name": "stdout",
          "text": [
            "Hasil Kalkulasi: 1000\n"
          ]
        }
      ]
    },
    {
      "cell_type": "code",
      "source": [
        "# DIVISION\n",
        "calculator(50, '/', 2)\n",
        "calculator(50, '/', 0)"
      ],
      "metadata": {
        "colab": {
          "base_uri": "https://localhost:8080/"
        },
        "id": "lQlmpNa4RGsV",
        "outputId": "d5b05dda-c4ca-4f5f-94af-ae5987516c6f"
      },
      "execution_count": 18,
      "outputs": [
        {
          "output_type": "stream",
          "name": "stdout",
          "text": [
            "Hasil Kalkulasi: 25.0\n",
            "ERROR: Bilangan tidak bisa dibagi 0!\n"
          ]
        }
      ]
    }
  ]
}